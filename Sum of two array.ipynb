{
 "cells": [
  {
   "cell_type": "markdown",
   "metadata": {},
   "source": [
    "# Two Sum : Check if a pair with given sum exists in Array\n",
    "### Problem Statement: Given an array of integers arr[] and an integer target.\n",
    "\n",
    "1st variant: Return YES if there exist two numbers such that their sum is equal to the target. Otherwise, return NO.\n",
    "\n",
    "2nd variant: Return indices of the two numbers such that their sum is equal to the target. Otherwise, we will return {-1, -1}.\n",
    "\n",
    "Note: You are not allowed to use the same element twice. Example: If the target is equal to 6 and num[1] = 3, then nums[1] + nums[1] = target is not a solution.\n",
    "\n",
    "Example 1:\n",
    "Input Format: N = 5, arr[] = {2,6,5,8,11}, target = 14\n",
    "Result: YES (for 1st variant)\n",
    "       [1, 3] (for 2nd variant)\n",
    "Explanation: arr[1] + arr[3] = 14. So, the answer is “YES” for the first variant and [1, 3] for 2nd variant.\n",
    "\n",
    "Example 2:\n",
    "Input Format: N = 5, arr[] = {2,6,5,8,11}, target = 15\n",
    "Result: NO (for 1st variant)\n",
    "\t[-1, -1] (for 2nd variant)\n",
    "Explanation: There exist no such two numbers whose sum is equal to the target."
   ]
  },
  {
   "cell_type": "code",
   "execution_count": 5,
   "metadata": {},
   "outputs": [
    {
     "name": "stdout",
     "output_type": "stream",
     "text": [
      "True\n",
      "The indices of the two numbers that sum to 14 are: True\n"
     ]
    }
   ],
   "source": [
    "#[Naive Approach] Generating all Possible Pairs – O(n^2) time and O(1) space\n",
    "\n",
    "def two_sum(arr,target):\n",
    "    n = len(arr)\n",
    "\n",
    "    # Iterate through each element in the array\n",
    "    for i in range(n):\n",
    "\n",
    "        # For each element arr[i], check every other element arr[j] that comes after it\n",
    "        for j in range(i + 1, n):\n",
    "\n",
    "            # Check if the sum of the currect pair equals the target\n",
    "            if arr[i] + arr[j] == target:\n",
    "                return True\n",
    "            \n",
    "    # If no pair is found after checking all possibilities\n",
    "    return False\n",
    "\n",
    "arr = [2,6,5,8,11]\n",
    "target = 14\n",
    "\n",
    "# Call the two_sum function and print the result\n",
    "if two_sum(arr, target):\n",
    "    print(\"True\")\n",
    "    result = two_sum(arr, target)\n",
    "else:\n",
    "    print(\"False\")\n",
    "\n",
    "print(f\"The indices of the two numbers that sum to {target} are: {result}\")"
   ]
  },
  {
   "cell_type": "code",
   "execution_count": 8,
   "metadata": {},
   "outputs": [
    {
     "name": "stdout",
     "output_type": "stream",
     "text": [
      "True\n",
      "The indices of two numbers that sum to 14 are: 1, 3\n"
     ]
    }
   ],
   "source": [
    "# [Better Approach-1] Sorting and Binary Search – O(n*log(n)) time and O(1) space\n",
    "\n",
    "# Function to perform binary search\n",
    "def binary_search(arr, left, right, target):\n",
    "    while left <= right:\n",
    "        mid = left + (right - left) // 2\n",
    "\n",
    "        if arr[mid][0] == target:\n",
    "            return mid\n",
    "        elif arr[mid][0] < target:\n",
    "            left = mid + 1\n",
    "        else: \n",
    "            right = mid - 1\n",
    "    return -1\n",
    "\n",
    "# Function to check whether any pair exists whose sum equal to the given target value\n",
    "def two_sum(arr, target):\n",
    "    arr = [(num, i) for i, num in enumerate(arr)]      # Create a list of tuples (values, index) to keep track of original indices\n",
    "\n",
    "    arr.sort()    # Sort the array based on the values (the first element of the tuples)\n",
    "\n",
    "    # Iterate through each element in the array\n",
    "    for i in range(len(arr)):\n",
    "        complement = target - arr[i][0]   # Find the complement of the current element\n",
    "\n",
    "        # Use binary search to find the complement in the rest of the array\n",
    "        complement_index = binary_search(arr, i + 1, len(arr) - 1, complement)\n",
    "\n",
    "        if complement_index != -1:\n",
    "            return True, arr[i][1], arr[complement_index][1]\n",
    "        \n",
    "    # If no pair is found\n",
    "    return False, -1, -1   \n",
    "\n",
    "# Example usage\n",
    "result, index1, index2 = two_sum(arr, target)\n",
    "arr = [2,6,5,8,11]\n",
    "target = 14\n",
    "\n",
    "# Call the two_sum function and print the result\n",
    "if result:\n",
    "    print(\"True\")\n",
    "    print(f\"The indices of two numbers that sum to {target} are: {index1}, {index2}\")\n",
    "else:\n",
    "    print(\"False\")\n"
   ]
  },
  {
   "cell_type": "code",
   "execution_count": 10,
   "metadata": {},
   "outputs": [
    {
     "name": "stdout",
     "output_type": "stream",
     "text": [
      "true\n"
     ]
    }
   ],
   "source": [
    "# Function to check whether any pair exists\n",
    "# whose sum is equal to the given target value\n",
    "def two_sum(arr, target):\n",
    "    # Sort the array\n",
    "    arr.sort()\n",
    "\n",
    "    left, right = 0, len(arr) - 1\n",
    "\n",
    "    # Iterate while left pointer is less than right\n",
    "    while left < right:\n",
    "        sum = arr[left] + arr[right]\n",
    "\n",
    "        # Check if the sum matches the target\n",
    "        if sum == target:\n",
    "            return True\n",
    "        elif sum < target: \n",
    "            left += 1  # Move left pointer to the right\n",
    "        else:\n",
    "            right -= 1 # Move right pointer to the left\n",
    "\n",
    "    # If no pair is found\n",
    "    return False\n",
    "\n",
    "arr = [0, -1, 2, -3, 1]\n",
    "target = -2\n",
    "\n",
    "# Call the two_sum function and print the result\n",
    "if two_sum(arr, target):\n",
    "    print(\"true\")\n",
    "else:\n",
    "    print(\"false\")"
   ]
  },
  {
   "cell_type": "code",
   "execution_count": 9,
   "metadata": {},
   "outputs": [
    {
     "name": "stdout",
     "output_type": "stream",
     "text": [
      "true\n"
     ]
    }
   ],
   "source": [
    "# [Best Approach] Using Hash Set – O(n) time and O(n) space\n",
    "# Function to check whether any pair exists\n",
    "# whose sum is equal to the given target value\n",
    "def two_sum(arr, target):\n",
    "  \n",
    "    # Create a set to store the elements\n",
    "    s = set()\n",
    "\n",
    "    # Iterate through each element in the array\n",
    "    for num in arr:\n",
    "      \n",
    "        # Calculate the complement that added to\n",
    "        # num, equals the target\n",
    "        complement = target - num\n",
    "\n",
    "        # Check if the complement exists in the set\n",
    "        if complement in s:\n",
    "            return True\n",
    "\n",
    "        # Add the current element to the set\n",
    "        s.add(num)\n",
    "\n",
    "    # If no pair is found\n",
    "    return False\n",
    "\n",
    "arr = [0, -1, 2, -3, 1]\n",
    "target = -2\n",
    "\n",
    "# Call the two_sum function and print the result\n",
    "if two_sum(arr, target):\n",
    "    print(\"true\")\n",
    "else:\n",
    "    print(\"false\")\n",
    "\n"
   ]
  }
 ],
 "metadata": {
  "kernelspec": {
   "display_name": "Python 3",
   "language": "python",
   "name": "python3"
  },
  "language_info": {
   "codemirror_mode": {
    "name": "ipython",
    "version": 3
   },
   "file_extension": ".py",
   "mimetype": "text/x-python",
   "name": "python",
   "nbconvert_exporter": "python",
   "pygments_lexer": "ipython3",
   "version": "3.12.2"
  }
 },
 "nbformat": 4,
 "nbformat_minor": 2
}
