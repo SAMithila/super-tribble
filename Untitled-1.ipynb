{
 "cells": [
  {
   "cell_type": "markdown",
   "metadata": {},
   "source": [
    "Problem Statement: \n",
    "Given an integer N and an array of size N-1 containing N-1 numbers between 1 to N. Find the number(between 1 to N), that is not present in the given array.\n",
    "\n",
    "Example 1:\n",
    "Input Format: N = 5, array[] = {1,2,4,5}\n",
    "Result: 3\n",
    "Explanation: \n",
    "In the given array, number 3 is missing. So, 3 is the answer.\n",
    "\n",
    "Example 2:\n",
    "Input Format: N = 3, array[] = {1,3}\n",
    "Result: 2\n",
    "Explanation: \n",
    "In the given array, number 2 is missing. So, 2 is the answer."
   ]
  },
  {
   "cell_type": "code",
   "execution_count": 4,
   "metadata": {},
   "outputs": [
    {
     "name": "stdout",
     "output_type": "stream",
     "text": [
      "The missing number is: 3\n"
     ]
    }
   ],
   "source": [
    "# Brute force\n",
    "# Time Complexity: O(N2), where N = size of the array+1.\n",
    "# Space Complexity: O(1)  as we are not using any extra space.\n",
    "\n",
    "def missingNumber(a, N):\n",
    "    # Outer loop that runs from 1 to N:\n",
    "    for i in range(1, N + 1):\n",
    "        # flag variable to check if an element exists\n",
    "        flag = 0\n",
    "\n",
    "        # search the element using linear search\n",
    "        for j in range(len(a)):\n",
    "            if a[j] == i:\n",
    "                flag = 1\n",
    "                break\n",
    "            \n",
    "        # check if the element is missing(flag == 0):\n",
    "        if flag == 0:\n",
    "            return i\n",
    "        \n",
    "    # The following line will never execute.\n",
    "    # It is just to avoid warnings.\n",
    "    return - 1\n",
    "\n",
    "def main():\n",
    "    N = 5\n",
    "    a = [1,2,4,5]\n",
    "    ans = missingNumber(a, N)\n",
    "    print(\"The missing number is:\", ans)\n",
    "\n",
    "if __name__ == '__main__':\n",
    "    main()"
   ]
  },
  {
   "cell_type": "code",
   "execution_count": 1,
   "metadata": {},
   "outputs": [
    {
     "name": "stdout",
     "output_type": "stream",
     "text": [
      "The missing number is: 3\n"
     ]
    }
   ],
   "source": [
    "# Better approach: Hash array\n",
    "# Time Complexity: O(N) + O(N) ~ O(2*N),  where N = size of the array+1.\n",
    "# Space Complexity: O(N), where N = size of the array+1. Here we are using an extra hash array of size N+1.\n",
    "\n",
    "def missingNumber(a, N):\n",
    "    hash = [0] * (N + 1)  #hash array\n",
    "\n",
    "    # storing the frequency:\n",
    "    for i in range(N - 1):\n",
    "        hash[a[i]] += 1\n",
    "\n",
    "    # checking the frequency for numbers 1 to N:\n",
    "    for i in range(1, N + 1):\n",
    "        if hash[i] == 0:\n",
    "            return i\n",
    "        \n",
    "    # The following line will never execute.\n",
    "    # It is just to avoid warnings.\n",
    "    return - 1\n",
    "\n",
    "def main():\n",
    "    N = 5\n",
    "    a = [1,2,4,5]\n",
    "    ans = missingNumber(a, N)\n",
    "    print(\"The missing number is:\", ans)\n",
    "\n",
    "if __name__ == '__main__':\n",
    "    main()"
   ]
  }
 ],
 "metadata": {
  "kernelspec": {
   "display_name": "Python 3",
   "language": "python",
   "name": "python3"
  },
  "language_info": {
   "codemirror_mode": {
    "name": "ipython",
    "version": 3
   },
   "file_extension": ".py",
   "mimetype": "text/x-python",
   "name": "python",
   "nbconvert_exporter": "python",
   "pygments_lexer": "ipython3",
   "version": "3.12.2"
  }
 },
 "nbformat": 4,
 "nbformat_minor": 2
}
