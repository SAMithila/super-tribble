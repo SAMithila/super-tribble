{
 "cells": [
  {
   "cell_type": "markdown",
   "metadata": {},
   "source": [
    "# Union of Two Sorted Arrays\n",
    "\n",
    "Example 2:\n",
    "Input:\n",
    "\n",
    "n = 10,m = 7.\n",
    "\n",
    "arr1[] = {1,2,3,4,5,6,7,8,9,10}\n",
    "arr2[] = {2,3,4,4,5,11,12}\n",
    "\n",
    "Output:\n",
    " {1,2,3,4,5,6,7,8,9,10,11,12}\n",
    "Explanation:\n",
    " \n",
    "Common Elements in arr1 and arr2  are:  2,3,4,5\n",
    "Distnict Elements in arr1 are : 1,6,7,8,9,10\n",
    "Distnict Elemennts in arr2 are : 11,12\n",
    "Union of arr1 and arr2 is {1,2,3,4,5,6,7,8,9,10,11,12} "
   ]
  },
  {
   "cell_type": "markdown",
   "metadata": {},
   "source": []
  },
  {
   "cell_type": "code",
   "execution_count": 9,
   "metadata": {},
   "outputs": [
    {
     "name": "stdout",
     "output_type": "stream",
     "text": [
      "Union of arr1 and arr2 is:\n",
      "1 2 3 4 5 6 7 8 9 10 11 12 "
     ]
    }
   ],
   "source": [
    "# Time Compleixty : O((m+n) \n",
    "# Space Complexity : O(m+n) {If Space of Union ArrayList is considered} \n",
    "\n",
    "def find_union(arr1, arr2):\n",
    "    freq = {}\n",
    "    union = []\n",
    "\n",
    "    for num in arr1:\n",
    "        freq[num] = freq.get(num, 0) + 1\n",
    "\n",
    "    for num in arr2:\n",
    "        freq[num] = freq.get(num, 0) + 1\n",
    "\n",
    "    for num in freq:\n",
    "        union.append(num)\n",
    "\n",
    "    return union\n",
    "\n",
    "arr1 = [1, 2, 3, 4, 5, 6, 7, 8, 9, 10]\n",
    "arr2 = [2, 3, 4, 4, 5, 11, 12]\n",
    "\n",
    "union = find_union(arr1, arr2)\n",
    "\n",
    "print(\"Union of arr1 and arr2 is:\")\n",
    "for num in union:\n",
    "    print(num, end=\" \")"
   ]
  },
  {
   "cell_type": "code",
   "execution_count": 12,
   "metadata": {},
   "outputs": [
    {
     "name": "stdout",
     "output_type": "stream",
     "text": [
      "Union of arr1 and arr2 is:\n",
      "1 2 3 4 5 6 7 8 9 10 11 12\n"
     ]
    }
   ],
   "source": [
    "# Time Compleixty : O((m+n) log(m+n))\n",
    "# Space Complexity : O(m+n) {If Space of Union ArrayList is considered} \n",
    "\n",
    "def find_union(arr1, arr2):\n",
    "    s = set()\n",
    "    union = []\n",
    "\n",
    "    for num in arr1:\n",
    "        s.add(num)\n",
    "\n",
    "    for num in arr2:\n",
    "        s.add(num)\n",
    "\n",
    "    for num in s:\n",
    "        union.append(num)\n",
    "\n",
    "    return union\n",
    "\n",
    "arr1 = [1, 2, 3, 4, 5, 6, 7, 8, 9, 10]\n",
    "arr2 = [2, 3, 4, 4, 5, 11, 12]\n",
    "\n",
    "union = find_union(arr1, arr2)\n",
    "\n",
    "print(\"Union of arr1 and arr2 is:\")\n",
    "print(*union)"
   ]
  }
 ],
 "metadata": {
  "kernelspec": {
   "display_name": "Python 3",
   "language": "python",
   "name": "python3"
  },
  "language_info": {
   "codemirror_mode": {
    "name": "ipython",
    "version": 3
   },
   "file_extension": ".py",
   "mimetype": "text/x-python",
   "name": "python",
   "nbconvert_exporter": "python",
   "pygments_lexer": "ipython3",
   "version": "3.12.2"
  }
 },
 "nbformat": 4,
 "nbformat_minor": 2
}
