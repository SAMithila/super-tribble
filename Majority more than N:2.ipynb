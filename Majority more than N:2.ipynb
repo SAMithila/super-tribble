{
 "cells": [
  {
   "cell_type": "markdown",
   "metadata": {},
   "source": [
    "# Find the Majority Element that occurs more than N/2 times\n",
    "\n",
    "## Problem Statement: Given an array of N integers, write a program to return an element that occurs more than N/2 times in the given array. You may consider that such an element always exists in the array.\n",
    "\n",
    "Example 1:\n",
    "Input Format\n",
    ": N = 3, nums[] = {3,2,3}\n",
    "Result\n",
    ": 3\n",
    "Explanation\n",
    ": When we just count the occurrences of each number and compare with half of the size of the array, you will get 3 for the above solution. \n",
    "\n",
    "Example 2:\n",
    "Input Format:\n",
    "  N = 7, nums[] = {2,2,1,1,1,2,2}\n",
    "\n",
    "Result\n",
    ": 2\n",
    "\n",
    "Explanation\n",
    ": After counting the number of times each element appears and comparing it with half of array size, we get 2 as result.\n",
    "\n",
    "Example 3:\n",
    "Input Format:\n",
    "  N = 10, nums[] = {4,4,2,4,3,4,4,3,2,4}\n",
    "\n",
    "Result: 4"
   ]
  },
  {
   "cell_type": "code",
   "execution_count": 9,
   "metadata": {},
   "outputs": [
    {
     "name": "stdout",
     "output_type": "stream",
     "text": [
      "This majority element is: 2\n"
     ]
    }
   ],
   "source": [
    "# Brute Force Approach\n",
    "# Time Complexity: O(n²), where N = size of the given array.\n",
    "# Space Complexity: O(1) as we use no extra space.\n",
    "\n",
    "def majorityElement(arr):\n",
    "    n = len(arr)   # Size of the given array\n",
    " \n",
    "    for i in range(n):\n",
    "        cnt = 0    # Selected element is arr[i]\n",
    "        for j in range(n):\n",
    "            if arr[j] == arr[i]:    # Counting the frequency of arr[i]\n",
    "                cnt += 1\n",
    "\n",
    "        if cnt > (n // 2):\n",
    "            return arr[i]\n",
    "\n",
    "    return - 1\n",
    "\n",
    "arr = [2, 2, 1, 1, 1, 2, 2]\n",
    "ans = majorityElement(arr)\n",
    "print(\"This majority element is:\", ans)"
   ]
  },
  {
   "cell_type": "code",
   "execution_count": 13,
   "metadata": {},
   "outputs": [
    {
     "name": "stdout",
     "output_type": "stream",
     "text": [
      "This majority element is: -1\n"
     ]
    }
   ],
   "source": [
    "# Better Approach - Hash map\n",
    "# Time Complexity: O(N*logN) + O(N), where N = size of the given array.\n",
    "# Space Complexity: O(N) as we are using a map data structure.\n",
    "\n",
    "from collections import Counter\n",
    "\n",
    "def majorityElement(arr):\n",
    "    n = len(arr)   # Size of the given array\n",
    " \n",
    "    counter = Counter(arr) # Count the occurances of each element using Counter\n",
    "    \n",
    "    for num, count in counter.items():\n",
    "       if count > (n // 2):\n",
    "           return num\n",
    "\n",
    "    return - 1\n",
    "\n",
    "arr = [2, 2, 1, 1, 1, 2, 2]\n",
    "ans = majorityElement(arr)\n",
    "print(\"This majority element is:\", ans)\n"
   ]
  }
 ],
 "metadata": {
  "kernelspec": {
   "display_name": "Python 3",
   "language": "python",
   "name": "python3"
  },
  "language_info": {
   "codemirror_mode": {
    "name": "ipython",
    "version": 3
   },
   "file_extension": ".py",
   "mimetype": "text/x-python",
   "name": "python",
   "nbconvert_exporter": "python",
   "pygments_lexer": "ipython3",
   "version": "3.12.2"
  }
 },
 "nbformat": 4,
 "nbformat_minor": 2
}
