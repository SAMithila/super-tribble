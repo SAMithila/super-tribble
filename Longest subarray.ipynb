{
 "cells": [
  {
   "cell_type": "markdown",
   "metadata": {},
   "source": [
    "# Longest Subarray with given Sum K(Positives)\n",
    "\n",
    "### Problem Statement: Given an array and a sum k, we need to print the length of the longest subarray that sums to k.\n",
    "\n",
    "\n",
    "Example 1:\n",
    "Input Format: N = 3, k = 5, array[] = {2,3,5}\n",
    "Result: 2\n",
    "Explanation: The longest subarray with sum 5 is {2, 3}. And its length is 2.\n",
    "\n",
    "Example 2:\n",
    "Input Format: N = 5, k = 10, array[] = {2,3,5,1,9}\n",
    "Result: 3\n",
    "Explanation: The longest subarray with sum 10 is {2, 3, 5}. And its length is 3."
   ]
  },
  {
   "cell_type": "code",
   "execution_count": 2,
   "metadata": {},
   "outputs": [
    {
     "name": "stdout",
     "output_type": "stream",
     "text": [
      "The length of the longest subarray is: 3\n"
     ]
    }
   ],
   "source": [
    "# Naive Approach (Brute-force approach): \n",
    "# Time Complexity: O(N3) approx., where N = size of the array.\n",
    "# Space Complexity: O(1) as we are not using any extra space.\n",
    "\n",
    "def getLongestSubarray(a: [int], k: int) -> int:\n",
    "    n = len(a) # size of the array\n",
    "\n",
    "    length = 0\n",
    "    for i in range(n): # starting index\n",
    "        for j in range(i, n):  # ending index\n",
    "            # add all the elements of subarray = a[i....j]:\n",
    "            s = 0\n",
    "            for K in range(i, j + 1):\n",
    "                s += a[K]\n",
    "            \n",
    "            if s == k:\n",
    "                length = max(length, j - i + 1)\n",
    "    return length\n",
    "\n",
    "if __name__ == \"__main__\":\n",
    "    a = [2, 3, 5, 1, 9]\n",
    "    k = 10\n",
    "\n",
    "    length = getLongestSubarray(a, k)\n",
    "    print(f\"The length of the longest subarray is: {length}\")\n"
   ]
  },
  {
   "cell_type": "code",
   "execution_count": 5,
   "metadata": {},
   "outputs": [
    {
     "name": "stdout",
     "output_type": "stream",
     "text": [
      "The length of the longest subarray is: 3\n"
     ]
    }
   ],
   "source": [
    "# Optimizing the Naive Approach (Using two loops): \n",
    "# Time Complexity: O(N2) approx., where N = size of the array.\n",
    "# Space Complexity: O(1) as we are not using any extra space.\n",
    "\n",
    "from typing import List\n",
    "\n",
    "def getLongestSubarray(a: [int], k: int) -> int:\n",
    "    n = len(a) # size of the array\n",
    "    \n",
    "    length = 0\n",
    "    for i in range(n): # starting index\n",
    "        s = 0\n",
    "        for j in range(i, n):  # ending index\n",
    "           s += a[j]\n",
    "           \n",
    "           if s == k:\n",
    "              length = max(length, j - i + 1)\n",
    "    \n",
    "    \n",
    "    return length\n",
    "\n",
    "if __name__ == \"__main__\":\n",
    "    a = [2, 3, 5, 1, 9]\n",
    "    k = 10\n",
    "\n",
    "    length = getLongestSubarray(a, k)\n",
    "    print(f\"The length of the longest subarray is: {length}\")\n"
   ]
  }
 ],
 "metadata": {
  "kernelspec": {
   "display_name": "Python 3",
   "language": "python",
   "name": "python3"
  },
  "language_info": {
   "codemirror_mode": {
    "name": "ipython",
    "version": 3
   },
   "file_extension": ".py",
   "mimetype": "text/x-python",
   "name": "python",
   "nbconvert_exporter": "python",
   "pygments_lexer": "ipython3",
   "version": "3.12.2"
  }
 },
 "nbformat": 4,
 "nbformat_minor": 2
}
