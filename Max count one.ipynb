{
 "cells": [
  {
   "cell_type": "markdown",
   "metadata": {},
   "source": [
    "# Count Maximum Consecutive One's in the array\n",
    "\n",
    "Problem Statement: Given an array that contains only 1 and 0 return the count of maximum consecutive ones in the array.\n",
    "\n",
    "Examples:\n",
    "\n",
    "Example 1:\n",
    "\n",
    "Input: prices = {1, 1, 0, 1, 1, 1}\n",
    "\n",
    "Output: 3\n",
    "\n",
    "Explanation: There are two consecutive 1’s and three consecutive 1’s in the array out of which maximum is 3.\n",
    "\n",
    "Input: prices = {1, 0, 1, 1, 0, 1} \n",
    "\n",
    "Output: 2\n",
    "\n",
    "Explanation: There are two consecutive 1's in the array. "
   ]
  },
  {
   "cell_type": "code",
   "execution_count": 1,
   "metadata": {},
   "outputs": [
    {
     "name": "stdout",
     "output_type": "stream",
     "text": [
      "The maximum consecutive 1's are 3\n"
     ]
    }
   ],
   "source": [
    "# Time Complexity: O(N) since the solution involves only a single pass.\n",
    "# Space Complexity: O(1) because no extra space is used.\n",
    "\n",
    "from typing import List\n",
    "\n",
    "class Solution:\n",
    "    def findMaxConsecutiveOnes(Self, nums: List[int]) -> int:\n",
    "        count = 0\n",
    "        maximum = 0\n",
    "        for i in range (len(nums)):\n",
    "            if nums[i] == 1:\n",
    "                count += 1\n",
    "            else:\n",
    "                count = 0\n",
    "            maximum = max(maximum, count)\n",
    "        return maximum\n",
    "\n",
    "if __name__ == \"__main__\":\n",
    "    nums = [1, 1, 0, 1, 1, 1]\n",
    "    obj = Solution()\n",
    "    ans = obj.findMaxConsecutiveOnes(nums)\n",
    "    print(\"The maximum consecutive 1's are\", ans)"
   ]
  }
 ],
 "metadata": {
  "kernelspec": {
   "display_name": "Python 3",
   "language": "python",
   "name": "python3"
  },
  "language_info": {
   "codemirror_mode": {
    "name": "ipython",
    "version": 3
   },
   "file_extension": ".py",
   "mimetype": "text/x-python",
   "name": "python",
   "nbconvert_exporter": "python",
   "pygments_lexer": "ipython3",
   "version": "3.12.2"
  }
 },
 "nbformat": 4,
 "nbformat_minor": 2
}
