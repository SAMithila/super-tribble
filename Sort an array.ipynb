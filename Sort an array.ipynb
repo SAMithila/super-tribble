{
 "cells": [
  {
   "cell_type": "markdown",
   "metadata": {},
   "source": [
    "# Sort an array of 0s, 1s and 2s\n",
    "\n",
    "## Problem Statement: Given an array consisting of only 0s, 1s, and 2s. Write a program to in-place sort the array without using inbuilt sort functions. ( Expected: Single pass-O(N) and constant space)\n",
    "\n",
    "Examples\n",
    "Input:\n",
    " nums = [2,0,2,1,1,0]\n",
    "Output\n",
    ": [0,0,1,1,2,2]\n",
    "\n",
    "Input:\n",
    " nums = [2,0,1]\n",
    "Output:\n",
    " [0,1,2]\n",
    "\n",
    "Input:\n",
    " nums = [0]\n",
    "Output:\n",
    " [0]"
   ]
  },
  {
   "cell_type": "code",
   "execution_count": 1,
   "metadata": {},
   "outputs": [
    {
     "name": "stdout",
     "output_type": "stream",
     "text": [
      "After sorting:\n",
      "0 0 1 1 2 2 \n"
     ]
    }
   ],
   "source": [
    "# Time Complexity: O(N) + O(N), where N = size of the array. \n",
    "# Space Complexity: O(1) as we are not using any extra space.\n",
    "\n",
    "def sortArray(arr):\n",
    "    cnt0 = 0\n",
    "    cnt1 = 0\n",
    "    cnt2 = 0\n",
    "    \n",
    "    for num in arr:\n",
    "        if num == 0:\n",
    "            cnt0 += 1\n",
    "        elif num == 1:\n",
    "            cnt1 += 1\n",
    "        else:\n",
    "            cnt2 += 1\n",
    "\n",
    "    for i in range(cnt0):\n",
    "        arr[i] = 0\n",
    "\n",
    "    for i in range(cnt0, cnt0 + cnt1):\n",
    "        arr[i] = 1\n",
    "\n",
    "    for i in range(cnt0 + cnt1, len(arr)):\n",
    "        arr[i] = 2\n",
    "\n",
    "n = 6\n",
    "arr = [0, 2, 1, 2, 0, 1]\n",
    "sortArray(arr)\n",
    "print(\"After sorting:\")\n",
    "for num in arr:\n",
    "    print(num, end=\" \")\n",
    "print()\n"
   ]
  },
  {
   "cell_type": "code",
   "execution_count": 2,
   "metadata": {},
   "outputs": [
    {
     "name": "stdout",
     "output_type": "stream",
     "text": [
      "After sorting:\n",
      "0 0 1 1 2 2 \n"
     ]
    }
   ],
   "source": [
    "# Optimal Approach\n",
    "# Time Complexity: O(N), where N = size of the given array. (Reason: We are using a single loop that can run at most N times.)\n",
    "# Space Complexity: O(1) as we are not using any extra space.\n",
    "\n",
    "def sortArray(arr):\n",
    "    low = 0\n",
    "    mid = 0\n",
    "    high = len(arr) - 1\n",
    "\n",
    "    while mid <= high:\n",
    "        if arr[mid] == 0:\n",
    "            arr[low], arr[mid] = arr[mid], arr[low]\n",
    "            low += 1\n",
    "            mid += 1\n",
    "        elif arr[mid] == 1:\n",
    "            mid += 1\n",
    "        else:\n",
    "            arr[mid], arr[high] = arr[high], arr[mid]\n",
    "            high -= 1\n",
    "\n",
    "n = 6\n",
    "arr = [0, 2, 1, 2, 0, 1]\n",
    "sortArray(arr)\n",
    "print(\"After sorting:\")\n",
    "for num in arr:\n",
    "    print(num, end=\" \")\n",
    "print()"
   ]
  }
 ],
 "metadata": {
  "kernelspec": {
   "display_name": "Python 3",
   "language": "python",
   "name": "python3"
  },
  "language_info": {
   "codemirror_mode": {
    "name": "ipython",
    "version": 3
   },
   "file_extension": ".py",
   "mimetype": "text/x-python",
   "name": "python",
   "nbconvert_exporter": "python",
   "pygments_lexer": "ipython3",
   "version": "3.12.2"
  }
 },
 "nbformat": 4,
 "nbformat_minor": 2
}
